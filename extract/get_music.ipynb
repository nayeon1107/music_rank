{
 "cells": [
  {
   "cell_type": "code",
   "execution_count": 7,
   "metadata": {},
   "outputs": [
    {
     "name": "stdout",
     "output_type": "stream",
     "text": [
      "Collecting Selenium\n",
      "  Downloading selenium-4.11.2-py3-none-any.whl (7.2 MB)\n",
      "                                              0.0/7.2 MB ? eta -:--:--\n",
      "     ----                                     0.7/7.2 MB 15.5 MB/s eta 0:00:01\n",
      "     ------                                   1.2/7.2 MB 15.1 MB/s eta 0:00:01\n",
      "     ---------                                1.7/7.2 MB 11.0 MB/s eta 0:00:01\n",
      "     -------------                            2.4/7.2 MB 11.1 MB/s eta 0:00:01\n",
      "     -----------------                        3.1/7.2 MB 12.2 MB/s eta 0:00:01\n",
      "     -----------------------                  4.2/7.2 MB 13.3 MB/s eta 0:00:01\n",
      "     -----------------------------            5.2/7.2 MB 14.5 MB/s eta 0:00:01\n",
      "     ---------------------------------        6.0/7.2 MB 15.4 MB/s eta 0:00:01\n",
      "     --------------------------------------   6.8/7.2 MB 15.6 MB/s eta 0:00:01\n",
      "     ---------------------------------------  7.2/7.2 MB 14.4 MB/s eta 0:00:01\n",
      "     ---------------------------------------- 7.2/7.2 MB 13.1 MB/s eta 0:00:00\n",
      "Requirement already satisfied: urllib3[socks]<3,>=1.26 in c:\\users\\playdata\\appdata\\local\\programs\\python\\python310\\lib\\site-packages (from Selenium) (1.26.16)\n",
      "Collecting trio~=0.17 (from Selenium)\n",
      "  Downloading trio-0.22.2-py3-none-any.whl (400 kB)\n",
      "                                              0.0/400.2 kB ? eta -:--:--\n",
      "     ------------------------------------  399.4/400.2 kB 12.2 MB/s eta 0:00:01\n",
      "     -------------------------------------- 400.2/400.2 kB 8.3 MB/s eta 0:00:00\n",
      "Collecting trio-websocket~=0.9 (from Selenium)\n",
      "  Downloading trio_websocket-0.10.3-py3-none-any.whl (17 kB)\n",
      "Requirement already satisfied: certifi>=2021.10.8 in c:\\users\\playdata\\appdata\\local\\programs\\python\\python310\\lib\\site-packages (from Selenium) (2023.7.22)\n",
      "Requirement already satisfied: attrs>=20.1.0 in c:\\users\\playdata\\appdata\\local\\programs\\python\\python310\\lib\\site-packages (from trio~=0.17->Selenium) (23.1.0)\n",
      "Collecting sortedcontainers (from trio~=0.17->Selenium)\n",
      "  Using cached sortedcontainers-2.4.0-py2.py3-none-any.whl (29 kB)\n",
      "Requirement already satisfied: idna in c:\\users\\playdata\\appdata\\local\\programs\\python\\python310\\lib\\site-packages (from trio~=0.17->Selenium) (3.4)\n",
      "Collecting outcome (from trio~=0.17->Selenium)\n",
      "  Using cached outcome-1.2.0-py2.py3-none-any.whl (9.7 kB)\n",
      "Collecting sniffio (from trio~=0.17->Selenium)\n",
      "  Using cached sniffio-1.3.0-py3-none-any.whl (10 kB)\n",
      "Requirement already satisfied: cffi>=1.14 in c:\\users\\playdata\\appdata\\local\\programs\\python\\python310\\lib\\site-packages (from trio~=0.17->Selenium) (1.15.1)\n",
      "Collecting exceptiongroup>=1.0.0rc9 (from trio~=0.17->Selenium)\n",
      "  Downloading exceptiongroup-1.1.2-py3-none-any.whl (14 kB)\n",
      "Collecting wsproto>=0.14 (from trio-websocket~=0.9->Selenium)\n",
      "  Using cached wsproto-1.2.0-py3-none-any.whl (24 kB)\n",
      "Collecting PySocks!=1.5.7,<2.0,>=1.5.6 (from urllib3[socks]<3,>=1.26->Selenium)\n",
      "  Using cached PySocks-1.7.1-py3-none-any.whl (16 kB)\n",
      "Requirement already satisfied: pycparser in c:\\users\\playdata\\appdata\\local\\programs\\python\\python310\\lib\\site-packages (from cffi>=1.14->trio~=0.17->Selenium) (2.21)\n",
      "Collecting h11<1,>=0.9.0 (from wsproto>=0.14->trio-websocket~=0.9->Selenium)\n",
      "  Using cached h11-0.14.0-py3-none-any.whl (58 kB)\n",
      "Installing collected packages: sortedcontainers, sniffio, PySocks, outcome, h11, exceptiongroup, wsproto, trio, trio-websocket, Selenium\n",
      "Successfully installed PySocks-1.7.1 Selenium-4.11.2 exceptiongroup-1.1.2 h11-0.14.0 outcome-1.2.0 sniffio-1.3.0 sortedcontainers-2.4.0 trio-0.22.2 trio-websocket-0.10.3 wsproto-1.2.0\n"
     ]
    },
    {
     "name": "stderr",
     "output_type": "stream",
     "text": [
      "\n",
      "[notice] A new release of pip is available: 23.1.2 -> 23.2.1\n",
      "[notice] To update, run: python.exe -m pip install --upgrade pip\n"
     ]
    }
   ],
   "source": [
    "# !pip install mysql\n",
    "# !pip install mysql-connector-python\n",
    "!pip install selenium"
   ]
  },
  {
   "cell_type": "code",
   "execution_count": 2,
   "metadata": {},
   "outputs": [
    {
     "name": "stdout",
     "output_type": "stream",
     "text": [
      "[]\n",
      "[]\n",
      "[]\n",
      "[]\n",
      "[]\n",
      "[]\n",
      "[]\n",
      "[]\n",
      "[]\n",
      "[]\n",
      "[]\n",
      "[]\n",
      "[]\n"
     ]
    }
   ],
   "source": [
    "from config import Config\n",
    "from mysql import connector\n",
    "import requests\n",
    "import time\n",
    "import re\n",
    "from selenium import webdriver\n",
    "from selenium.webdriver.support.select import Select\n",
    "from selenium.webdriver.common.by import By\n",
    "from selenium.webdriver.common.keys import Keys\n",
    "\n",
    "def run_query(query):\n",
    "    conn = connector.connect(**Config) \n",
    "    with conn.cursor() as cur:\n",
    "        cur.execute(query)\n",
    "        rows= cur.fetchall()\n",
    "    conn.commit()\n",
    "    conn.close()\n",
    "\n",
    "    return rows\n",
    "\n",
    "## 등록된 음반 INSERT\n",
    "# options = webdriver.ChromeOptions()\n",
    "# options.add_argument('headless')\n",
    "# options.add_argument('window-size=1920x1080')\n",
    "# options.add_argument(\"disable-gpu\")\n",
    "# driver = webdriver.Chrome('./chromedriver', options=options)\n",
    "\n",
    "driver = webdriver.Chrome()\n",
    "url = 'https://www.komca.or.kr/CTLJSP'\n",
    "driver.get(url)\n",
    "time.sleep(1)\n",
    "\n",
    "# 검색어 입력\n",
    "select=Select(driver.find_element(By.NAME,\"sel_gubun\"))\n",
    "select.select_by_value(\"3\")\n",
    "driver.find_element(By.ID, 'search').send_keys('뉴진스')\n",
    "driver.find_element(By.ID, 'search').send_keys(Keys.ENTER)\n",
    "\n",
    "# 검색결과 100개씩 보기\n",
    "select=Select(driver.find_element(By.CLASS_NAME,\"fr.mt10\"))\n",
    "select.select_by_value(\"100\")\n",
    "\n",
    "# 정보 가져오기\n",
    "id = []\n",
    "name = []\n",
    "date = []\n",
    "album = []\n",
    "\n",
    "title = driver.find_elements(By.CLASS_NAME, 'tit2')\n",
    "for t in title :\n",
    "    t = t.text\n",
    "    t = t.replace(\"[대중]\", \"\")\n",
    "    t = t.split(\" - \")\n",
    "    id.append(t[1])\n",
    "    name.append(t[0])\n",
    "\n",
    "release = driver.find_elements(By.XPATH, \"//p[contains(text(), '공표일자 : ')]\")\n",
    "for r in release :\n",
    "    t = r.text\n",
    "    date.append(t.split(\" \")[2])\n",
    "\n",
    "program = driver.find_elements(By.XPATH, \"//p[contains(text(), '앨범명/프로그램명 : ')]\")\n",
    "for p in program :\n",
    "    t = p.text\n",
    "    t = t.replace(\"앨범명/프로그램명 : \",\"\")\n",
    "    album.append(t)\n",
    "    \n",
    "conn = connector.connect(**Config)\n",
    "cursor = conn.cursor()\n",
    "\n",
    "for items in zip(id,name,date,album) :\n",
    "    cursor.execute(f'INSERT INTO music_table VALUES {items};')\n",
    "    rows= cursor.fetchall()\n",
    "conn.commit()\n",
    "conn.close()\n",
    "print(rows)\n",
    "\n"
   ]
  },
  {
   "cell_type": "code",
   "execution_count": 4,
   "metadata": {},
   "outputs": [
    {
     "data": {
      "text/plain": [
       "[]"
      ]
     },
     "execution_count": 4,
     "metadata": {},
     "output_type": "execute_result"
    }
   ],
   "source": [
    "run_query('SELECT * FROM music_table ;')"
   ]
  },
  {
   "cell_type": "code",
   "execution_count": null,
   "metadata": {},
   "outputs": [],
   "source": []
  }
 ],
 "metadata": {
  "kernelspec": {
   "display_name": "Python 3",
   "language": "python",
   "name": "python3"
  },
  "language_info": {
   "codemirror_mode": {
    "name": "ipython",
    "version": 3
   },
   "file_extension": ".py",
   "mimetype": "text/x-python",
   "name": "python",
   "nbconvert_exporter": "python",
   "pygments_lexer": "ipython3",
   "version": "3.10.1"
  },
  "orig_nbformat": 4
 },
 "nbformat": 4,
 "nbformat_minor": 2
}
