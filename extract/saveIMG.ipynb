{
 "cells": [
  {
   "cell_type": "code",
   "execution_count": 7,
   "metadata": {},
   "outputs": [
    {
     "name": "stdout",
     "output_type": "stream",
     "text": [
      "{\"NEWJEANS 2ND EP 'GET UP'\": 'https://lh3.googleusercontent.com/FzLKj6zFEJna0gRNDeZRH4nuQwEyN-YbCaC-bIGLoia6EhirHUachdvdEdR3VdB7pArgFCW8mtpLPL0=w544-h544-l90-rj', \"NEWJEANS 1ST EP 'NEWJEANS'\": 'https://lh3.googleusercontent.com/yg7U52lN4NMHddFXE1de6d99puDNeC-1U6q5PnLjXPatrexqW9AOoWC8a5EJBULlXraaEWU8OvKrFYrp1A=w544-h544-l90-rj', 'OMG': 'https://lh3.googleusercontent.com/UWM-x77xhcEEAK8tKICtlDSxsYedoFxQhdiDPzW-Ww59DWs7rDQpD_idJQ6h5YEJruURgpEr1O-0oq5Y=w544-h544-l90-rj', 'ZERO': 'https://lh3.googleusercontent.com/oFrIVhQCVshMYSzuVuAX6eY1oF4JcDRDF2u5t3JyGxXFoPjowRLEXopF53V00UWGMD2YxuwPkNCN55w=w544-h544-l90-rj'}\n",
      "이미지 저장 완료: NEWJEANS 2ND EP 'GET UP'.jpg\n",
      "이미지 저장 완료: NEWJEANS 1ST EP 'NEWJEANS'.jpg\n",
      "이미지 저장 완료: OMG.jpg\n",
      "이미지 저장 완료: ZERO.jpg\n"
     ]
    }
   ],
   "source": [
    "import os\n",
    "import requests\n",
    "from youtube_mv import *  # run_query 함수 가져오기\n",
    "\n",
    "# 이미지 URL 리스트\n",
    "img_urls = dict(run_query(f\"SELECT DISTINCT 앨범명, 커버이미지 FROM album_table;\"))\n",
    "print(img_urls) # {파일저장이름 : 커버이미지 url}\n",
    "\n",
    "# 이미지를 저장할 로컬 경로\n",
    "local_directory = '../src/'\n",
    "\n",
    "# 이미지 다운로드 및 저장\n",
    "for filename, url in img_urls.items() :\n",
    "    response = requests.get(url)\n",
    "    if response.status_code == 200:\n",
    "        filename = filename + \".jpg\"\n",
    "        local_path = os.path.join(local_directory, filename)\n",
    "        with open(local_path, 'wb') as f:\n",
    "            f.write(response.content)\n",
    "        print(f\"이미지 저장 완료: {filename}\")\n",
    "    else:\n",
    "        print(f\"이미지 다운로드 실패: {filename}\")\n"
   ]
  },
  {
   "cell_type": "code",
   "execution_count": null,
   "metadata": {},
   "outputs": [],
   "source": []
  }
 ],
 "metadata": {
  "kernelspec": {
   "display_name": "Python 3",
   "language": "python",
   "name": "python3"
  },
  "language_info": {
   "codemirror_mode": {
    "name": "ipython",
    "version": 3
   },
   "file_extension": ".py",
   "mimetype": "text/x-python",
   "name": "python",
   "nbconvert_exporter": "python",
   "pygments_lexer": "ipython3",
   "version": "3.10.1"
  },
  "orig_nbformat": 4
 },
 "nbformat": 4,
 "nbformat_minor": 2
}
