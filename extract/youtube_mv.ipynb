{
 "cells": [
  {
   "cell_type": "code",
   "execution_count": 2,
   "metadata": {},
   "outputs": [],
   "source": [
    "## 하루마다 실행\n",
    "\n",
    "from config import Config\n",
    "from mysql import connector\n",
    "import requests\n",
    "import time\n",
    "from datetime import date\n",
    "import re\n",
    "from selenium import webdriver\n",
    "from selenium.webdriver.support.select import Select\n",
    "from selenium.webdriver.common.by import By\n",
    "from selenium.webdriver.common.keys import Keys\n",
    "\n",
    "def run_query(query):\n",
    "    conn = connector.connect(**Config) \n",
    "    with conn.cursor() as cur:\n",
    "        cur.execute(query)\n",
    "        rows= cur.fetchall()\n",
    "    conn.commit()\n",
    "    conn.close()\n",
    "\n",
    "    return rows\n",
    "\n",
    "def get_youtube_mv() :\n",
    "\n",
    "    driver = webdriver.Chrome()\n",
    "    today = date.today().strftime('%Y-%m-%d')\n",
    "\n",
    "    official_mv = {'ETA' : 'https://youtu.be/jOTfBlKSQYY',\n",
    "    'COOL WITH YOU' : 'https://youtu.be/zsYSSVoQnP4',\n",
    "    'SUPER SHY' : 'https://youtu.be/ArmDp-zijuc'\n",
    "    }\n",
    "\n",
    "    for music, url in official_mv.items() :\n",
    "        driver.get(url)\n",
    "        time.sleep(1)\n",
    "\n",
    "        driver.find_element(By.XPATH, '//*[@id=\"expand\"]').click()\n",
    "        view = driver.find_element(By.XPATH, '//*[@id=\"info\"]/span[1]').text\n",
    "        view = re.sub(r'[^0-9]', '', view)\n",
    "        view\n",
    "\n",
    "        for i in range(5) :\n",
    "            driver.find_element(By.CSS_SELECTOR, 'body').send_keys(Keys.PAGE_DOWN)\n",
    "\n",
    "        time.sleep(3)\n",
    "        comment = driver.find_element(By.XPATH, '//*[@id=\"count\"]/yt-formatted-string/span[2]').text\n",
    "        comment = re.sub(r'[^0-9]', '', comment)\n",
    "\n",
    "        like = driver.find_element(By.XPATH, '//*[@id=\"segmented-like-button\"]/ytd-toggle-button-renderer/yt-button-shape/button/div[2]/span').text\n",
    "        like = like.replace(\"천\", \"000\")\n",
    "        like = like.replace(\"만\",\"0000\")\n",
    "        like\n",
    "\n",
    "        run_query(f'INSERT INTO streaming_table VALUES (\"{today}\", \"{music}\", \"youtube_official\", {int(view)}, {int(comment)}, {int(like)})')\n",
    "\n",
    "\n",
    "if __name__ == '__main__' :\n",
    "    get_youtube_mv()\n",
    "\n"
   ]
  },
  {
   "cell_type": "code",
   "execution_count": null,
   "metadata": {},
   "outputs": [],
   "source": []
  },
  {
   "cell_type": "code",
   "execution_count": null,
   "metadata": {},
   "outputs": [],
   "source": []
  }
 ],
 "metadata": {
  "kernelspec": {
   "display_name": "Python 3",
   "language": "python",
   "name": "python3"
  },
  "language_info": {
   "codemirror_mode": {
    "name": "ipython",
    "version": 3
   },
   "file_extension": ".py",
   "mimetype": "text/x-python",
   "name": "python",
   "nbconvert_exporter": "python",
   "pygments_lexer": "ipython3",
   "version": "3.10.1"
  },
  "orig_nbformat": 4
 },
 "nbformat": 4,
 "nbformat_minor": 2
}
